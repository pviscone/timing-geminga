{
 "cells": [
  {
   "cell_type": "markdown",
   "metadata": {},
   "source": [
    "Department of Physics, University of Pisa (AA 2020-2021)\n",
    "\n",
    "### Multimessenger Physics Laboratory\n",
    "\n",
    "\n",
    "\n",
    "## Data Analysis experience - Gamma-ray pulsars \n",
    "#### (M. Razzano, Apr 15, 2021)\n",
    "\n",
    "This notebook serves as outline for the data analysis experience on gamma-ray pulsars. This is just an *outline*, so for your analysis please create a copy of this file, rename it (e.g. pulsar_analysis_yourname_namepulsar.ipynb), and start working on it. If you want to put some library functions in an external Python file that you will import, please feel free to do it.\n",
    "\n",
    "**Do not forget** to add the file, as well as youd data files, to the Github repository. \n",
    "\n",
    "More details are contained in the PDF file (scheda_fermilat_pulsars.pdf)"
   ]
  },
  {
   "cell_type": "markdown",
   "metadata": {},
   "source": [
    "### Basic Setup\n",
    "First of all, we import the required modules and we download the data file."
   ]
  },
  {
   "cell_type": "code",
   "execution_count": 8,
   "metadata": {
    "colab": {},
    "colab_type": "code",
    "id": "5M-SnOdC1PqH"
   },
   "outputs": [],
   "source": [
    "import os   #These two are useful modules\n",
    "import sys\n",
    "\n",
    "#here you can import other useful modules, such as numpy, matplotlib, etc..\n",
    "import numpy as np #Numerical Python\n",
    "import matplotlib.pyplot as plt\n",
    "\n",
    "#also import astropy.fits\n",
    "from astropy.io import fits"
   ]
  },
  {
   "cell_type": "markdown",
   "metadata": {},
   "source": [
    "**Important** Within the notebook you can run BASH command, by putting a ! before the command. For instance, if you want to run a ls command, type !ls"
   ]
  },
  {
   "cell_type": "code",
   "execution_count": 9,
   "metadata": {},
   "outputs": [
    {
     "name": "stdout",
     "output_type": "stream",
     "text": [
      "/home/jovyan/exp-pulsars/code\n"
     ]
    }
   ],
   "source": [
    "# you can run the pwd command (Print Working Directory) to see your directory\n",
    "!pwd"
   ]
  },
  {
   "cell_type": "code",
   "execution_count": 10,
   "metadata": {},
   "outputs": [
    {
     "name": "stdout",
     "output_type": "stream",
     "text": [
      "total 8\n",
      "-rw-r--r-- 1 jovyan users 6396 Apr 20 13:45 sample_notebook_pulsar_analysis.ipynb\n"
     ]
    }
   ],
   "source": [
    "#or you can run ls command to list the directory where you are\n",
    "# (-l indicates that you can see all the properties of the file)\n",
    "!ls -l"
   ]
  },
  {
   "cell_type": "code",
   "execution_count": 11,
   "metadata": {},
   "outputs": [
    {
     "name": "stdout",
     "output_type": "stream",
     "text": [
      "total 60\n",
      "drwxr-sr-x 3 jovyan users  4096 Apr 20 13:45 code\n",
      "drwxr-sr-x 2 jovyan users  4096 Apr 20 13:37 data\n",
      "-rw-r--r-- 1 jovyan users   130 Apr 20 13:37 evaluation.md\n",
      "-rw-r--r-- 1 jovyan users 35149 Apr 20 13:37 LICENSE\n",
      "-rw-r--r-- 1 jovyan users  2855 Apr 20 13:37 README.md\n",
      "drwxr-sr-x 2 jovyan users  4096 Apr 20 13:37 report\n",
      "drwxr-sr-x 2 jovyan users  4096 Apr 20 13:42 results\n"
     ]
    }
   ],
   "source": [
    "#or the one above you\n",
    "!ls -l ../"
   ]
  },
  {
   "cell_type": "markdown",
   "metadata": {},
   "source": [
    "### Let's set some useful variables\n",
    "The data are stored in a \"data\" directory at the same level of the \"code\" directory where you are now. Let's do some work to navigate the directory...\n",
    "We will use the *os* module, in particular the *os.path* submodule.\n",
    "\n",
    "**Note**: In this case we define the directories directly in this notebook, instead of using environment variables. For this examples, it is easier..."
   ]
  },
  {
   "cell_type": "code",
   "execution_count": 12,
   "metadata": {
    "colab": {
     "base_uri": "https://localhost:8080/",
     "height": 35
    },
    "colab_type": "code",
    "id": "VCBKOr9W1PqQ",
    "outputId": "697a0956-195b-4204-c47d-912aa384e147"
   },
   "outputs": [
    {
     "name": "stdout",
     "output_type": "stream",
     "text": [
      "I am in dir /home/jovyan/exp-pulsars/code\n",
      "Main directory is /home/jovyan/exp-pulsars\n",
      "Data directory is /home/jovyan/exp-pulsars/data\n",
      "Results directory is /home/jovyan/exp-pulsars/data\n"
     ]
    }
   ],
   "source": [
    "# Let's define te directory where you are with the \"get current working directory\" command...\n",
    "work_dir = os.getcwd()\n",
    "print(\"I am in dir %s\" % work_dir)\n",
    "\n",
    "#We can go up by using the path.dirname\n",
    "main_dir =os.path.dirname(work_dir)\n",
    "print(\"Main directory is %s\" % main_dir)\n",
    "\n",
    "#We can then define the data directory using the os.path.join command\n",
    "data_dir = os.path.join(main_dir,\"data\")\n",
    "print(\"Data directory is %s\" % data_dir)\n",
    "\n",
    "#..and we can define some output directory with the results\n",
    "results_dir = os.path.join(main_dir,\"results\")\n",
    "\n",
    "#if the directory does not exist, you can create it...\n",
    "if not os.path.exists(results_dir):\n",
    "    os.mkdir(results_dir)\n",
    "    print(\"Directory %s created!\" % results_dir)\n",
    "else:\n",
    "    print(\"Results directory is %s\" % data_dir)\n",
    "    "
   ]
  },
  {
   "cell_type": "markdown",
   "metadata": {
    "colab": {
     "base_uri": "https://localhost:8080/",
     "height": 35
    },
    "colab_type": "code",
    "id": "h-0oY8XQ1PqW",
    "outputId": "8c5458f5-c9d6-47de-e466-0ae46b965bf0"
   },
   "source": [
    "### Let's get started\n",
    "After this basic setup, here below you can start coding..."
   ]
  },
  {
   "cell_type": "code",
   "execution_count": 13,
   "metadata": {
    "colab": {},
    "colab_type": "code",
    "id": "xjryHpEq1iha"
   },
   "outputs": [],
   "source": [
    "# Put here below your code..."
   ]
  },
  {
   "cell_type": "code",
   "execution_count": null,
   "metadata": {},
   "outputs": [],
   "source": []
  }
 ],
 "metadata": {
  "colab": {
   "name": "exercise1-read-csv.ipynb",
   "provenance": []
  },
  "kernelspec": {
   "display_name": "Python 3",
   "language": "python",
   "name": "python3"
  },
  "language_info": {
   "codemirror_mode": {
    "name": "ipython",
    "version": 3
   },
   "file_extension": ".py",
   "mimetype": "text/x-python",
   "name": "python",
   "nbconvert_exporter": "python",
   "pygments_lexer": "ipython3",
   "version": "3.9.2"
  }
 },
 "nbformat": 4,
 "nbformat_minor": 4
}
